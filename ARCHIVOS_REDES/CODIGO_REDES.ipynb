{
 "cells": [
  {
   "cell_type": "code",
   "execution_count": 2,
   "id": "17ab425f-3f92-451f-a7e4-e2358bde0177",
   "metadata": {},
   "outputs": [],
   "source": [
    "import networkx as nx\n",
    "import os\n",
    "import random\n",
    "\n",
    "# Asegura que las carpetas necesarias existen\n",
    "def crear_estructura_directorios():\n",
    "    base = \"ARCHIVOS_REDES\"\n",
    "    subdirs = [\"ER\", \"WS\", \"ER_parametros\", \"WS_parametros\"]\n",
    "    for sub in subdirs:\n",
    "        os.makedirs(os.path.join(base, sub), exist_ok=True)\n",
    "\n",
    "crear_estructura_directorios()\n",
    "\n",
    "def contar_archivos_en_directorio(directorio):\n",
    "    return len([f for f in os.listdir(directorio) if f.endswith(\".txt\")])\n",
    "\n",
    "\n",
    "def guardar_lista_adyacencia(grafo, nombre_base, modelo, parametros):\n",
    "    \"\"\"\n",
    "    Guarda el grafo en formato lista de adyacencia y los parámetros usados.\n",
    "\n",
    "    Args:\n",
    "        grafo (nx.Graph): Grafo a guardar.\n",
    "        nombre_base (str): Nombre base para el archivo.\n",
    "        modelo (str): 'ER' o 'WS'.\n",
    "        parametros (dict): Parámetros a guardar en el archivo de parámetros.\n",
    "    \"\"\"\n",
    "    carpeta_grafos = os.path.join(\"ARCHIVOS_REDES\", modelo)\n",
    "    carpeta_params = os.path.join(\"ARCHIVOS_REDES\", f\"{modelo}_parametros\")\n",
    "\n",
    "    i = contar_archivos_en_directorio(carpeta_grafos)\n",
    "    nombre_grafo = f\"{nombre_base}_{i}.txt\"\n",
    "    nombre_param = f\"{nombre_base}_{i}.txt\"\n",
    "\n",
    "    # Guardar lista de adyacencia\n",
    "    with open(os.path.join(carpeta_grafos, nombre_grafo), 'w') as f:\n",
    "        for nodo in sorted(grafo.nodes()):\n",
    "            vecinos = sorted(grafo.neighbors(nodo))\n",
    "            for vecino in vecinos:\n",
    "                f.write(f\"{nodo} {vecino}\\n\")\n",
    "\n",
    "    # Guardar parámetros\n",
    "    with open(os.path.join(carpeta_params, nombre_param), 'w') as f:\n",
    "        for clave, valor in parametros.items():\n",
    "            f.write(f\"{clave}: {valor}\\n\")\n",
    "\n",
    "\n",
    "def generar_red_ER_conexa(N, k_prom, aceptancia_N, aceptancia_k, nombre_base=\"ER\"):\n",
    "    p = k_prom / (N - 1)\n",
    "\n",
    "    while True:\n",
    "        G = nx.erdos_renyi_graph(N, p)\n",
    "        if not nx.is_connected(G):\n",
    "            giant = max(nx.connected_components(G), key=len)\n",
    "            G = G.subgraph(giant).copy()\n",
    "\n",
    "        N_real = G.number_of_nodes()\n",
    "        k_real = sum(dict(G.degree()).values()) / N_real\n",
    "\n",
    "        if (abs(N_real - N) / N * 100 <= aceptancia_N and\n",
    "                abs(k_real - k_prom) / k_prom * 100 <= aceptancia_k):\n",
    "            parametros = {\n",
    "                \"N_ideal\": N,\n",
    "                \"N_real\": N_real,\n",
    "                \"k_prom_ideal\": k_prom,\n",
    "                \"k_prom_real\": round(k_real, 3)\n",
    "            }\n",
    "            guardar_lista_adyacencia(G, nombre_base, \"ER\", parametros)\n",
    "            return G, N_real, k_real\n",
    "\n",
    "\n",
    "def generar_red_WS(N, k, p, nombre_base=\"WS\"):\n",
    "    G = nx.watts_strogatz_graph(N, k, 0)\n",
    "    feos = []\n",
    "    guapos = []\n",
    "\n",
    "    for edge in G.edges():\n",
    "        if random.random() < p:\n",
    "            feos.append(edge)\n",
    "        else:\n",
    "            guapos.append(edge)\n",
    "\n",
    "    while feos:\n",
    "        random.shuffle(feos)\n",
    "        enlace0 = feos[0]\n",
    "        nodo0_a, nodo0_b = enlace0\n",
    "        encontrado = False\n",
    "\n",
    "        for i in range(1, len(feos)):\n",
    "            enlace1 = feos[i]\n",
    "            nodo1_a, nodo1_b = enlace1\n",
    "            if nodo0_a not in enlace1 and nodo0_b not in enlace1:\n",
    "                nodos1 = [nodo1_a, nodo1_b]\n",
    "                random.shuffle(nodos1)\n",
    "                A = (nodo0_a, nodos1[0])\n",
    "                B = (nodo0_b, nodos1[1])\n",
    "                if A not in guapos and (A[1], A[0]) not in guapos and B not in guapos and (B[1], B[0]) not in guapos:\n",
    "                    guapos.append(A)\n",
    "                    guapos.append(B)\n",
    "                    del feos[i]\n",
    "                    del feos[0]\n",
    "                    encontrado = True\n",
    "                    break\n",
    "\n",
    "        if not encontrado:\n",
    "            guapos.append(feos[0])\n",
    "            del feos[0]\n",
    "\n",
    "    G_guapo = nx.Graph()\n",
    "    G_guapo.add_nodes_from(range(N))\n",
    "    G_guapo.add_edges_from(guapos)\n",
    "\n",
    "    parametros = {\n",
    "        \"N\": N,\n",
    "        \"k\": k,\n",
    "        \"p\": p\n",
    "    }\n",
    "\n",
    "    guardar_lista_adyacencia(G_guapo, nombre_base, \"WS\", parametros)\n",
    "    return G_guapo\n"
   ]
  },
  {
   "cell_type": "code",
   "execution_count": 4,
   "id": "83b94e3c-c24b-42f9-a611-b0ab4983e6b2",
   "metadata": {},
   "outputs": [],
   "source": [
    "from datetime import datetime\n",
    "\n",
    "def escribir_en_historial(nombre_archivo, parametros, archivo_inicio, archivo_fin):\n",
    "    \"\"\"\n",
    "    Escribe una entrada en el historial correspondiente.\n",
    "\n",
    "    Args:\n",
    "        nombre_archivo (str): Nombre del archivo de historial (ER o WS).\n",
    "        parametros (dict): Parámetros usados en la función.\n",
    "        archivo_inicio (str): Nombre del primer archivo creado.\n",
    "        archivo_fin (str): Nombre del último archivo creado.\n",
    "    \"\"\"\n",
    "    ruta = os.path.join(\"ARCHIVOS_REDES\", nombre_archivo)\n",
    "    with open(ruta, 'a') as f:\n",
    "        f.write(\"---------------------------------------------------------------------------------\\n\")\n",
    "        f.write(f\"Fecha de ejecución: {datetime.now().strftime('%Y-%m-%d %H:%M:%S')}\\n\")\n",
    "        f.write(\"Parámetros:\\n\")\n",
    "        for clave, valor in parametros.items():\n",
    "            f.write(f\"{clave}: {valor}\\n\")\n",
    "        f.write(f\"Archivo inicial generado: {archivo_inicio}\\n\")\n",
    "        f.write(f\"Archivo final generado: {archivo_fin}\\n\")\n",
    "        f.write(\"---------------------------------------------------------------------------------\\n\\n\")\n",
    "\n",
    "\n",
    "def generar_varias_redes_ER(N_redes, N_nodos, k_prom, aceptancia_N, aceptancia_k, nombre_base=\"ER\"):\n",
    "    carpeta_grafos = os.path.join(\"ARCHIVOS_REDES\", \"ER\")\n",
    "    i_inicial = contar_archivos_en_directorio(carpeta_grafos)\n",
    "\n",
    "    for _ in range(N_redes):\n",
    "        generar_red_ER_conexa(N_nodos, k_prom, aceptancia_N, aceptancia_k, nombre_base)\n",
    "\n",
    "    i_final = i_inicial + N_redes - 1\n",
    "    archivo_inicio = f\"{nombre_base}_{i_inicial}.txt\"\n",
    "    archivo_fin = f\"{nombre_base}_{i_final}.txt\"\n",
    "\n",
    "    parametros_historial = {\n",
    "        \"N_redes\": N_redes,\n",
    "        \"N_nodos\": N_nodos,\n",
    "        \"k_prom\": k_prom,\n",
    "        \"aceptancia_N (%)\": aceptancia_N,\n",
    "        \"aceptancia_k (%)\": aceptancia_k\n",
    "    }\n",
    "\n",
    "    escribir_en_historial(\"Historial_ER.txt\", parametros_historial, archivo_inicio, archivo_fin)\n",
    "\n",
    "\n",
    "def generar_varias_redes_WS(N_redes, N_nodos, k, p, nombre_base=\"WS\"):\n",
    "    carpeta_grafos = os.path.join(\"ARCHIVOS_REDES\", \"WS\")\n",
    "    i_inicial = contar_archivos_en_directorio(carpeta_grafos)\n",
    "\n",
    "    for _ in range(N_redes):\n",
    "        generar_red_WS(N_nodos, k, p, nombre_base)\n",
    "\n",
    "    i_final = i_inicial + N_redes - 1\n",
    "    archivo_inicio = f\"{nombre_base}_{i_inicial}.txt\"\n",
    "    archivo_fin = f\"{nombre_base}_{i_final}.txt\"\n",
    "\n",
    "    parametros_historial = {\n",
    "        \"N_redes\": N_redes,\n",
    "        \"N_nodos\": N_nodos,\n",
    "        \"k\": k,\n",
    "        \"p\": p\n",
    "    }\n",
    "\n",
    "    escribir_en_historial(\"Historial_WS.txt\", parametros_historial, archivo_inicio, archivo_fin)"
   ]
  },
  {
   "cell_type": "code",
   "execution_count": 5,
   "id": "1cd0abfb-e73f-415d-aac4-4ccf77dfa15a",
   "metadata": {},
   "outputs": [],
   "source": [
    "generar_varias_redes_WS(100,1000,4,0.5)"
   ]
  },
  {
   "cell_type": "code",
   "execution_count": 18,
   "id": "393e77c3-c872-4a71-83b0-106dd6ca836e",
   "metadata": {},
   "outputs": [
    {
     "name": "stderr",
     "output_type": "stream",
     "text": [
      "warning: in the working copy of 'ARCHIVOS_REDES/CODIGO_REDES.ipynb', LF will be replaced by CRLF the next time Git touches it\n"
     ]
    }
   ],
   "source": [
    "!git add .\n"
   ]
  },
  {
   "cell_type": "code",
   "execution_count": 19,
   "id": "84c7457c-a062-47ae-937b-7bca1cad90b6",
   "metadata": {},
   "outputs": [
    {
     "name": "stdout",
     "output_type": "stream",
     "text": [
      "[main 28f8b35] Mejora de funciones y eliminaciÃ³n de archivos basura\n",
      " 1 file changed, 35 insertions(+), 16 deletions(-)\n"
     ]
    }
   ],
   "source": [
    "!git commit -m \"Mejora de funciones y eliminación de archivos basura\"\n"
   ]
  },
  {
   "cell_type": "code",
   "execution_count": 9,
   "id": "013ca6f0-d457-4890-92e7-c5ec76899771",
   "metadata": {},
   "outputs": [],
   "source": [
    "!git config --global user.name \"DonIgnacioHerraiz\"\n",
    "!git config --global user.email \"874462@unizar.es\"\n"
   ]
  },
  {
   "cell_type": "code",
   "execution_count": 10,
   "id": "90ed1c36-0d33-42b1-9ecb-a691bd6e4731",
   "metadata": {},
   "outputs": [
    {
     "name": "stdout",
     "output_type": "stream",
     "text": [
      "diff.astextplain.textconv=astextplain\n",
      "filter.lfs.clean=git-lfs clean -- %f\n",
      "filter.lfs.smudge=git-lfs smudge -- %f\n",
      "filter.lfs.process=git-lfs filter-process\n",
      "filter.lfs.required=true\n",
      "http.sslbackend=openssl\n",
      "http.sslcainfo=C:/Program Files/Git/mingw64/etc/ssl/certs/ca-bundle.crt\n",
      "core.autocrlf=true\n",
      "core.fscache=true\n",
      "core.symlinks=false\n",
      "pull.rebase=false\n",
      "credential.helper=manager\n",
      "credential.https://dev.azure.com.usehttppath=true\n",
      "init.defaultbranch=main\n",
      "core.editor=\"C:\\Users\\USUARIO\\Desktop\\Segundo semeste 2324\\Computacional\\Microsoft VS Code\\bin\\code\" --wait\n",
      "user.name=DonIgnacioHerraiz\n",
      "user.email=874462@unizar.es\n",
      "core.repositoryformatversion=0\n",
      "core.filemode=false\n",
      "core.bare=false\n",
      "core.logallrefupdates=true\n",
      "core.symlinks=false\n",
      "core.ignorecase=true\n",
      "remote.origin.url=https://github.com/872943/CaOtIcOs.git\n",
      "remote.origin.fetch=+refs/heads/*:refs/remotes/origin/*\n",
      "branch.main.remote=origin\n",
      "branch.main.merge=refs/heads/main\n"
     ]
    }
   ],
   "source": [
    "!git config --list\n"
   ]
  },
  {
   "cell_type": "code",
   "execution_count": 11,
   "id": "e908f7d2-139d-4b41-94d2-baf8eaf4a21a",
   "metadata": {},
   "outputs": [
    {
     "name": "stdout",
     "output_type": "stream",
     "text": [
      "On branch main\n",
      "Your branch is ahead of 'origin/main' by 1 commit.\n",
      "  (use \"git push\" to publish your local commits)\n",
      "\n",
      "Changes not staged for commit:\n",
      "  (use \"git add <file>...\" to update what will be committed)\n",
      "  (use \"git restore <file>...\" to discard changes in working directory)\n",
      "\tmodified:   ../.ipynb_checkpoints/CODIGO_REDES-checkpoint.ipynb\n",
      "\tmodified:   ../CODIGO_REDES.ipynb\n",
      "\n",
      "no changes added to commit (use \"git add\" and/or \"git commit -a\")\n"
     ]
    }
   ],
   "source": [
    "!git commit -m \"Mejoras\"\n"
   ]
  },
  {
   "cell_type": "code",
   "execution_count": 20,
   "id": "f5cffb54-8c11-454f-8461-2e7b7f3dc99f",
   "metadata": {},
   "outputs": [
    {
     "name": "stderr",
     "output_type": "stream",
     "text": [
      "To https://github.com/872943/CaOtIcOs.git\n",
      " ! [rejected]        main -> main (fetch first)\n",
      "error: failed to push some refs to 'https://github.com/872943/CaOtIcOs.git'\n",
      "hint: Updates were rejected because the remote contains work that you do not\n",
      "hint: have locally. This is usually caused by another repository pushing to\n",
      "hint: the same ref. If you want to integrate the remote changes, use\n",
      "hint: 'git pull' before pushing again.\n",
      "hint: See the 'Note about fast-forwards' in 'git push --help' for details.\n"
     ]
    }
   ],
   "source": [
    "!git push\n"
   ]
  },
  {
   "cell_type": "code",
   "execution_count": 21,
   "id": "f60fafcf-5de5-4f40-b28f-302f49d37129",
   "metadata": {},
   "outputs": [
    {
     "name": "stderr",
     "output_type": "stream",
     "text": [
      "error: cannot pull with rebase: You have unstaged changes.\n",
      "error: Please commit or stash them.\n"
     ]
    }
   ],
   "source": [
    "!git pull --rebase\n",
    "\n"
   ]
  },
  {
   "cell_type": "code",
   "execution_count": null,
   "id": "af8b82af-14c3-4b7e-a13d-daf491095273",
   "metadata": {},
   "outputs": [],
   "source": []
  }
 ],
 "metadata": {
  "kernelspec": {
   "display_name": "Python 3 (ipykernel)",
   "language": "python",
   "name": "python3"
  },
  "language_info": {
   "codemirror_mode": {
    "name": "ipython",
    "version": 3
   },
   "file_extension": ".py",
   "mimetype": "text/x-python",
   "name": "python",
   "nbconvert_exporter": "python",
   "pygments_lexer": "ipython3",
   "version": "3.12.3"
  }
 },
 "nbformat": 4,
 "nbformat_minor": 5
}
